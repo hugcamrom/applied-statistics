{
 "cells": [
  {
   "cell_type": "markdown",
   "id": "29d25059",
   "metadata": {},
   "source": [
    "# Assesment Problems"
   ]
  }
 ],
 "metadata": {
  "language_info": {
   "name": "python"
  }
 },
 "nbformat": 4,
 "nbformat_minor": 5
}
